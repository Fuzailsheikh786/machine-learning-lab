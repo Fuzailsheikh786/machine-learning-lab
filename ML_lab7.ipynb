{
  "nbformat": 4,
  "nbformat_minor": 0,
  "metadata": {
    "colab": {
      "provenance": [],
      "authorship_tag": "ABX9TyPAG3lw13dY8TQl3v8i81R3",
      "include_colab_link": true
    },
    "kernelspec": {
      "name": "python3",
      "display_name": "Python 3"
    },
    "language_info": {
      "name": "python"
    }
  },
  "cells": [
    {
      "cell_type": "markdown",
      "metadata": {
        "id": "view-in-github",
        "colab_type": "text"
      },
      "source": [
        "<a href=\"https://colab.research.google.com/github/Fuzailsheikh786/machine-learning-lab/blob/main/ML_lab7.ipynb\" target=\"_parent\"><img src=\"https://colab.research.google.com/assets/colab-badge.svg\" alt=\"Open In Colab\"/></a>"
      ]
    },
    {
      "cell_type": "code",
      "execution_count": 1,
      "metadata": {
        "colab": {
          "base_uri": "https://localhost:8080/"
        },
        "id": "7guNcDqzNOsw",
        "outputId": "d17e6353-5f0b-43a1-9af2-fa79c695d36b"
      },
      "outputs": [
        {
          "output_type": "stream",
          "name": "stdout",
          "text": [
            "   Cheap  Promo  Buy? Predicted_Buy Actual_Buy\n",
            "0      1      1     1           Yes        Yes\n",
            "1      1      0     1           Yes        Yes\n",
            "2      0      1     0            No         No\n",
            "3      1      1     1           Yes        Yes\n",
            "4      0      0     0            No         No\n"
          ]
        }
      ],
      "source": [
        "import pandas as pd\n",
        "from sklearn.preprocessing import LabelEncoder\n",
        "from sklearn.naive_bayes import CategoricalNB\n",
        "\n",
        "\n",
        "data = {\n",
        "    'Cheap': ['Yes', 'Yes', 'No', 'Yes', 'No'],\n",
        "    'Promo': ['Yes', 'No', 'Yes', 'Yes', 'No'],\n",
        "    'Buy?': ['Yes', 'Yes', 'No', 'Yes', 'No']\n",
        "}\n",
        "df = pd.DataFrame(data)\n",
        "\n",
        "\n",
        "le_cheap = LabelEncoder()\n",
        "le_promo = LabelEncoder()\n",
        "le_buy = LabelEncoder()\n",
        "\n",
        "\n",
        "df['Cheap'] = le_cheap.fit_transform(df['Cheap'])\n",
        "df['Promo'] = le_promo.fit_transform(df['Promo'])\n",
        "df['Buy?'] = le_buy.fit_transform(df['Buy?'])\n",
        "\n",
        "\n",
        "X = df[['Cheap', 'Promo']]\n",
        "y = df['Buy?']\n",
        "\n",
        "\n",
        "model = CategoricalNB()\n",
        "model.fit(X,y)\n",
        "\n",
        "CategoricalNB()\n",
        "\n",
        "predictions = model.predict(X)\n",
        "\n",
        "\n",
        "df['Predicted_Buy'] = le_buy.inverse_transform(predictions)\n",
        "df['Actual_Buy'] = le_buy.inverse_transform(y)\n",
        "\n",
        "\n",
        "print(df)"
      ]
    }
  ]
}